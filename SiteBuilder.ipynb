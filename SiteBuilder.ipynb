{
  "nbformat": 4,
  "nbformat_minor": 0,
  "metadata": {
    "colab": {
      "provenance": []
    },
    "kernelspec": {
      "name": "python3",
      "display_name": "Python 3"
    },
    "language_info": {
      "name": "python"
    }
  },
  "cells": [
    {
      "cell_type": "code",
      "execution_count": null,
      "metadata": {
        "id": "rKDjJrBMyUCo"
      },
      "outputs": [],
      "source": [
        "import os\n",
        "!pip install --upgrade openai\n",
        "!pip install langchain"
      ]
    },
    {
      "cell_type": "code",
      "source": [
        "!pip install mlflow"
      ],
      "metadata": {
        "id": "sreJZzLby4lD"
      },
      "execution_count": null,
      "outputs": []
    },
    {
      "cell_type": "code",
      "source": [
        "from langchain.chains import LLMChain\n",
        "\n",
        "from langchain.llms import OpenAI\n",
        "from langchain.prompts import PromptTemplate\n",
        "import mlflow\n"
      ],
      "metadata": {
        "id": "G5sOXkr-yZ8T"
      },
      "execution_count": 3,
      "outputs": []
    },
    {
      "cell_type": "code",
      "source": [
        "api_key  = 'PUT_YOUR_APIKEY_HERE'\n",
        "os.environ[\"OPENAI_API_KEY\"] = api_key"
      ],
      "metadata": {
        "id": "eLwTxJ1GzF7I"
      },
      "execution_count": 4,
      "outputs": []
    },
    {
      "cell_type": "code",
      "source": [
        "# Ensure the OpenAI API key is set in the environment\n",
        "assert \"OPENAI_API_KEY\" in os.environ, \"Please set the OPENAI_API_KEY environment variable.\""
      ],
      "metadata": {
        "id": "vhk2Qb0CzIg4"
      },
      "execution_count": 5,
      "outputs": []
    },
    {
      "cell_type": "code",
      "source": [
        "#Initialize the OpenAI model and the prompt template\n",
        "#Test Method to check mlflow. Ignore it.\n",
        "llm = OpenAI(temperature=0.9)\n",
        "prompt = PromptTemplate(\n",
        "    input_variables=[\"GenAI\"],\n",
        "    template=\"What is a good name for a company that makes {product}?\",\n",
        ")\n",
        "\n",
        "# Create the LLMChain with the specified model and prompt\n",
        "chain = LLMChain(llm=llm, prompt=prompt)\n",
        "\n",
        "# Log the LangChain LLMChain in an MLflow run\n",
        "with mlflow.start_run():\n",
        "    logged_model = mlflow.langchain.log_model(chain, \"langchain_model\")\n",
        "\n",
        "# Load the logged model using MLflow's Python function flavor\n",
        "loaded_model = mlflow.pyfunc.load_model(logged_model.model_uri)\n",
        "\n",
        "# Predict using the loaded model\n",
        "print(loaded_model.predict([{\"product\": \"colorful socks\"}]))"
      ],
      "metadata": {
        "id": "-a2htKyRyXoR"
      },
      "execution_count": null,
      "outputs": []
    },
    {
      "cell_type": "code",
      "source": [
        "!pip install langchain_openai"
      ],
      "metadata": {
        "id": "ylKIZgae_2JF"
      },
      "execution_count": null,
      "outputs": []
    },
    {
      "cell_type": "markdown",
      "source": [
        "Notebook uses 2 methods:\n",
        "1. Straight forward single prompt and get the skeleton HTML\n",
        "2. Build the website based on parameters."
      ],
      "metadata": {
        "id": "yUP7H-CLlWT8"
      }
    },
    {
      "cell_type": "markdown",
      "source": [
        "Method 1: Straight forward single prompt and get the skeleton HTML"
      ],
      "metadata": {
        "id": "hTdZRcidljjJ"
      }
    },
    {
      "cell_type": "code",
      "source": [
        "profile = \"a Software Architect Professional\"\n",
        "\n",
        "#await llm.ainvoke(\"What are the components required to build a website personal profile?\")\n",
        "#description = \"Need a fullblown responsive HTML5 webpage for Software Architect Professional with navigation links to Home, About, Courses, and Contact pages. Put the navigation links in a collapsible hamburger menu on the right hand corner of the page. Navigation links connected to sections on the same page. Put all the styles in styles tag.\"\n",
        "description = 'Need a full-blown responsive HTML5 webpage for a {profile} with navigation links to Home, About, Courses, and Contact form. Put the navigation links in a collapsible hamburger menu on the right hand corner of the page. Navigation links connected to sections on the same page. Put all the styles in styles tag.'\n"
      ],
      "metadata": {
        "id": "sY-LHl42hxMK"
      },
      "execution_count": 11,
      "outputs": []
    },
    {
      "cell_type": "code",
      "source": [
        "from langchain.chains import LLMChain\n",
        "#from langchain.llms import OpenAI\n",
        "\n",
        "from langchain_core.prompts import PromptTemplate\n",
        "\n",
        "prompt_template = \"Create HTML code for:{description}\"\n",
        "prompt = PromptTemplate(\n",
        "    input_variables=[\"description\"], template=prompt_template\n",
        ")\n",
        "#a software developer\n",
        "llm2 = LLMChain(llm=OpenAI(temperature=0, max_tokens=2000), prompt=prompt )\n",
        "output = llm2.run(description=description )"
      ],
      "metadata": {
        "id": "h6uBxvl5hrjU"
      },
      "execution_count": 13,
      "outputs": []
    },
    {
      "cell_type": "code",
      "source": [
        "print(output)"
      ],
      "metadata": {
        "id": "jgK_i-w2zbCB"
      },
      "execution_count": null,
      "outputs": []
    },
    {
      "cell_type": "code",
      "source": [
        "skills = [\"Web Architecture\",\"API\", \"Azure\", \"AWS\", \"GCP\", \"AI/ML\", \"MLOps & DevOps\"]\n",
        "skills_string = \", \".join(skills)\n",
        "print(skills_string)\n",
        "\n",
        "\n",
        "def generate_description(profile, skills):\n",
        "    description = f'Need a single responsive HTML5 webpage for {profile} with skills in {skills}. Add section for each skill under a separate skills section. The page should be broken down to the following headings with separate navigation links to Home, About, Courses, and a Contact form. Put the navigation links in a collapsible hamburger menu on the right-hand corner of the page. Navigation links are connected to sections on the same page. Put all the styles in the styles tag.'\n",
        "    return description\n",
        "\n",
        "description = generate_description(profile, skills_string)\n",
        "# Example usage\n",
        "#profile_name = \"John Doe's Profile\"\n",
        "#webpage_description = generate_description(profile_name)\n",
        "#print(webpage_description)"
      ],
      "metadata": {
        "colab": {
          "base_uri": "https://localhost:8080/"
        },
        "id": "G3x5FtC2XKt-",
        "outputId": "f43aff2f-8695-4981-e809-34f0369c757e"
      },
      "execution_count": 15,
      "outputs": [
        {
          "output_type": "stream",
          "name": "stdout",
          "text": [
            "Web Architecture, API, Azure, AWS, GCP, AI/ML, MLOps & DevOps\n"
          ]
        }
      ]
    },
    {
      "cell_type": "code",
      "source": [
        "conceptdescription = ''\n",
        "\n",
        "def site_concept(profile, skills):\n",
        "    description = f'{profile} with skills in {skills}.'\n",
        "    return description\n",
        "\n",
        "conceptdescription = site_concept(profile, skills_string)\n",
        "# Example usage"
      ],
      "metadata": {
        "id": "dxWswosVSiCq"
      },
      "execution_count": 18,
      "outputs": []
    },
    {
      "cell_type": "code",
      "source": [
        "print(conceptdescription)"
      ],
      "metadata": {
        "id": "HLWw_onPCDGT"
      },
      "execution_count": null,
      "outputs": []
    },
    {
      "cell_type": "markdown",
      "source": [
        "Method 2: Based on desired paramters. Uses Langchain LLM Chains basic setup"
      ],
      "metadata": {
        "id": "TaVYxwrOluTo"
      }
    },
    {
      "cell_type": "code",
      "source": [
        "from langchain.chains import LLMChain\n",
        "#from langchain.llms import OpenAI\n",
        "\n",
        "from langchain_core.prompts import PromptTemplate\n",
        "\n",
        "prompt_template = \"Do not include code, prepare a Website Concept for:{description}\"\n",
        "prompt2 = PromptTemplate(\n",
        "    input_variables=[\"description\"], template=prompt_template\n",
        ")\n",
        "#a software developer\n",
        "llm3 = LLMChain(llm=OpenAI(temperature=0.9, max_tokens=2000), prompt=prompt2 )\n",
        "output = llm3.run(description=\"Software Architect\" )\n"
      ],
      "metadata": {
        "id": "dRsCijy0TUS_"
      },
      "execution_count": 49,
      "outputs": []
    },
    {
      "cell_type": "code",
      "source": [
        "print(prompt2)"
      ],
      "metadata": {
        "colab": {
          "base_uri": "https://localhost:8080/"
        },
        "id": "9O1JhjGpkLjY",
        "outputId": "9f2bb00c-46ad-41ea-e8d9-0bc8b43af191"
      },
      "execution_count": 50,
      "outputs": [
        {
          "output_type": "stream",
          "name": "stdout",
          "text": [
            "input_variables=['description'] template='Do not include code, prepare a Website Concept in 200 words for :{description}'\n"
          ]
        }
      ]
    },
    {
      "cell_type": "code",
      "source": [
        "print(output)"
      ],
      "metadata": {
        "colab": {
          "base_uri": "https://localhost:8080/"
        },
        "id": "pOwEqtzlfGm5",
        "outputId": "044f3589-c910-414f-b041-e14346e65b52"
      },
      "execution_count": 29,
      "outputs": [
        {
          "output_type": "stream",
          "name": "stdout",
          "text": [
            "\n",
            "\n",
            "Website Concept: Software Architects\n",
            "\n",
            "Overview:\n",
            "The Software Architects website aims to provide a platform for software architects to connect, collaborate and stay updated on the latest trends and best practices in the software industry. It will serve as a one-stop destination for all things related to software architecture, catering to both experienced architects and those aspiring to become one.\n",
            "\n",
            "Target Audience:\n",
            "The target audience for the website includes software architects, software developers, project managers, and tech enthusiasts who are interested in software architecture. The website will cater to both beginners and experienced professionals in this field.\n",
            "\n",
            "Features:\n",
            "1. Knowledge Hub:\n",
            "The website will have a comprehensive knowledge hub where software architects can access articles, blogs, and webinars on various topics related to software architecture. The content will be curated by experts in the field, ensuring its quality and relevance.\n",
            "\n",
            "2. Discussion Forum:\n",
            "The website will have a dedicated discussion forum where software architects can ask questions, share their experiences, and collaborate with their peers. This forum will serve as a platform for knowledge sharing and networking.\n",
            "\n",
            "3. Job Board:\n",
            "The website will have a job board where companies can post job openings for software architects. This will help connect talented architects with job opportunities and promote job growth in the field.\n",
            "\n",
            "4. Events:\n",
            "The website will feature a calendar of upcoming software architecture-related events, such as conferences, workshops, and seminars. This will allow architects to stay updated on the latest industry trends and networking opportunities.\n",
            "\n",
            "5. Resources:\n",
            "The website will provide a variety of resources, including templates, tools, and frameworks, to help software architects in their day-to-day work. These resources will be regularly updated and curated by experts in the field.\n",
            "\n",
            "6. Mentoring Program:\n",
            "The website will offer a mentoring program where experienced software architects can guide and mentor those who are new to the field. This program will help aspiring architects learn from experienced professionals and accelerate their career growth.\n",
            "\n",
            "7. Community:\n",
            "The website will have a strong community aspect, with regular meetups and virtual events for software architects to network and learn from each other. This will foster a sense of belonging and collaboration among architects.\n",
            "\n",
            "8. Newsletter:\n",
            "The website will have a monthly newsletter that will include updates on the latest industry trends, articles, events, and job opportunities. This will keep architects informed and engaged with the platform.\n",
            "\n",
            "Design:\n",
            "The website will have a clean and modern design, with a user-friendly interface. The color scheme will be professional yet vibrant, reflecting the dynamic nature of the software architecture field. The website will be responsive, ensuring a seamless experience across all devices.\n",
            "\n",
            "Conclusion:\n",
            "The Software Architects website aims to be the go-to destination for all things related to software architecture. It will provide a platform for architects to connect, learn, and grow in their careers. With its comprehensive features and resources, the website will be a valuable resource for software architects worldwide.\n"
          ]
        }
      ]
    },
    {
      "cell_type": "code",
      "source": [
        "print(output)"
      ],
      "metadata": {
        "colab": {
          "base_uri": "https://localhost:8080/"
        },
        "id": "--hfxB1EnTzf",
        "outputId": "9b279cc4-ad29-4c8a-9cf4-b63e6b81b19f"
      },
      "execution_count": 51,
      "outputs": [
        {
          "output_type": "stream",
          "name": "stdout",
          "text": [
            "\n",
            "\n",
            "The website for Software Architect is designed to serve as a hub for all things related to software architecture. Our goal is to provide a comprehensive resource for aspiring and experienced software architects alike, through a user-friendly and visually appealing platform.\n",
            "\n",
            "The website will feature articles, tutorials, and case studies from industry experts, covering topics such as design patterns, software development methodologies, system architecture, and more. Users can also access a collection of tools and resources to aid in their software architecture projects.\n",
            "\n",
            "In addition, we will offer online courses and certifications for those looking to enhance their skills and advance their careers in the field of software architecture. Our community forum will provide a space for architects to connect, share ideas, and seek advice from their peers.\n",
            "\n",
            "Our website will also feature a job board for software architect positions, as well as a directory of companies looking to hire talented professionals in this field. We aim to bridge the gap between architects and employers, providing a platform for growth and opportunities.\n",
            "\n",
            "With a sleek and modern design, intuitive navigation, and regular updates, our website will be the go-to destination for anyone looking to learn, connect, or advance in the world of software architecture. Join us and elevate your skills as a software architect today.\n"
          ]
        }
      ]
    },
    {
      "cell_type": "code",
      "source": [
        "from langchain.chains import LLMChain\n",
        "#from langchain.llms import OpenAI\n",
        "\n",
        "from langchain_core.prompts import PromptTemplate\n",
        "\n",
        "prompt_template = \"Generate an HTML Navigation menu with strings to represent section names which can be used to structure the content of the website based on: {description}. \"\n",
        "\n",
        "prompt3 = PromptTemplate(\n",
        "    input_variables=[\"description\"], template=prompt_template\n",
        ")\n",
        "#a software developer\n",
        "#llm4 = LLMChain(llm=OpenAI(model=\"gpt-4\", temperature=0.9, max_tokens=5000), prompt=prompt2)\n",
        "llm4 = LLMChain(llm=OpenAI(temperature=0.0, max_tokens=3000), prompt=prompt3)\n"
      ],
      "metadata": {
        "id": "ktEn8Ft6fGqM"
      },
      "execution_count": 81,
      "outputs": []
    },
    {
      "cell_type": "code",
      "source": [
        "output_final = llm4.run(description=output )"
      ],
      "metadata": {
        "id": "BjoGCquAncwN"
      },
      "execution_count": 82,
      "outputs": []
    },
    {
      "cell_type": "code",
      "source": [
        "print(output_final)"
      ],
      "metadata": {
        "colab": {
          "base_uri": "https://localhost:8080/"
        },
        "id": "NWzSWEWdoPQ6",
        "outputId": "cd91b27e-f1d8-458c-9263-5dbacc91c990"
      },
      "execution_count": 83,
      "outputs": [
        {
          "output_type": "stream",
          "name": "stdout",
          "text": [
            "\n",
            "\n",
            "<nav>\n",
            "  <ul>\n",
            "    <li>Home</li>\n",
            "    <li>About Us</li>\n",
            "    <li>Articles</li>\n",
            "    <li>Tutorials</li>\n",
            "    <li>Case Studies</li>\n",
            "    <li>Tools & Resources</li>\n",
            "    <li>Online Courses</li>\n",
            "    <li>Certifications</li>\n",
            "    <li>Community Forum</li>\n",
            "    <li>Job Board</li>\n",
            "    <li>Company Directory</li>\n",
            "    <li>Contact Us</li>\n",
            "  </ul>\n",
            "</nav>\n"
          ]
        }
      ]
    },
    {
      "cell_type": "code",
      "source": [
        "from bs4 import BeautifulSoup\n",
        "\n",
        "# Provided HTML content\n",
        "html_content = \"\"\"\n",
        "<nav>\n",
        "  <ul>\n",
        "    <li>Home</li>\n",
        "    <li>About Us</li>\n",
        "    <li>Articles</li>\n",
        "    <li>Tutorials</li>\n",
        "    <li>Case Studies</li>\n",
        "    <li>Tools & Resources</li>\n",
        "    <li>Online Courses</li>\n",
        "    <li>Certifications</li>\n",
        "    <li>Community Forum</li>\n",
        "    <li>Job Board</li>\n",
        "    <li>Company Directory</li>\n",
        "    <li>Contact Us</li>\n",
        "  </ul>\n",
        "</nav>\n",
        "\"\"\"\n",
        "\n",
        "# Using BeautifulSoup to parse the HTML\n",
        "soup = BeautifulSoup(html_content, 'html.parser')\n",
        "nav_items = [li.get_text() for li in soup.find_all('li')]\n",
        "\n",
        "print(nav_items)\n"
      ],
      "metadata": {
        "colab": {
          "base_uri": "https://localhost:8080/"
        },
        "id": "wHuHaCPo38M4",
        "outputId": "6dd4ede7-1067-4f9d-a2dd-88b36de169fb"
      },
      "execution_count": 87,
      "outputs": [
        {
          "output_type": "stream",
          "name": "stdout",
          "text": [
            "['Home', 'About Us', 'Articles', 'Tutorials', 'Case Studies', 'Tools & Resources', 'Online Courses', 'Certifications', 'Community Forum', 'Job Board', 'Company Directory', 'Contact Us']\n"
          ]
        }
      ]
    },
    {
      "cell_type": "code",
      "source": [],
      "metadata": {
        "colab": {
          "base_uri": "https://localhost:8080/"
        },
        "id": "tKy7Nb4P6H94",
        "outputId": "bdaf3932-b9da-4dcf-de4b-61b85d37d018"
      },
      "execution_count": 88,
      "outputs": [
        {
          "output_type": "stream",
          "name": "stdout",
          "text": [
            "Home\n",
            "About Us\n",
            "Articles\n",
            "Tutorials\n",
            "Case Studies\n",
            "Tools & Resources\n",
            "Online Courses\n",
            "Certifications\n",
            "Community Forum\n",
            "Job Board\n",
            "Company Directory\n",
            "Contact Us\n"
          ]
        }
      ]
    },
    {
      "cell_type": "code",
      "source": [
        "from langchain.chains import LLMChain\n",
        "#from langchain.llms import OpenAI\n",
        "\n",
        "from langchain_core.prompts import PromptTemplate\n",
        "\n",
        "prompt_template = \"Generate an HTML section tag for a {description} of a webapage based on {details}\"\n",
        "\n",
        "prompt4 = PromptTemplate(\n",
        "    input_variables=[\"description\"], template=prompt_template\n",
        ")\n",
        "#a software developer\n",
        "#llm4 = LLMChain(llm=OpenAI(model=\"gpt-4\", temperature=0.9, max_tokens=5000), prompt=prompt2)\n",
        "llm5 = LLMChain(llm=OpenAI(temperature=0.0, max_tokens=3000), prompt=prompt4)"
      ],
      "metadata": {
        "id": "2wk4-GhEk4Dr"
      },
      "execution_count": 117,
      "outputs": []
    },
    {
      "cell_type": "code",
      "source": [
        "section_op_items =[]\n",
        "placheolders=\"\"\n",
        "\n",
        "for item in nav_items:\n",
        "  placheolders = placheolders + \",\" + item\n",
        "  section_op = llm5.run(description=item,details=output )\n",
        "  print(section_op)\n",
        "  section_op_items.append(section_op)"
      ],
      "metadata": {
        "colab": {
          "base_uri": "https://localhost:8080/"
        },
        "id": "aWpx3oHglGmj",
        "outputId": "b10271de-ff63-4bdf-c902-e1c2ca1096e2"
      },
      "execution_count": 118,
      "outputs": [
        {
          "output_type": "stream",
          "name": "stdout",
          "text": [
            "\n",
            "\n",
            "<section id=\"home\">\n",
            "  <h2>Welcome to Software Architect</h2>\n",
            "  <p>The ultimate hub for all things related to software architecture.</p>\n",
            "  <p>Our goal is to provide a comprehensive resource for aspiring and experienced software architects alike, through a user-friendly and visually appealing platform.</p>\n",
            "</section>\n",
            " \n",
            "\n",
            "<section id=\"about-us\">\n",
            "  <h2>About Us</h2>\n",
            "  <p>The website for Software Architect is designed to serve as a hub for all things related to software architecture. Our goal is to provide a comprehensive resource for aspiring and experienced software architects alike, through a user-friendly and visually appealing platform.</p>\n",
            "  <p>The website will feature articles, tutorials, and case studies from industry experts, covering topics such as design patterns, software development methodologies, system architecture, and more. Users can also access a collection of tools and resources to aid in their software architecture projects.</p>\n",
            "  <p>In addition, we will offer online courses and certifications for those looking to enhance their skills and advance their careers in the field of software architecture. Our community forum will provide a space for architects to connect, share ideas, and seek advice from their peers.</p>\n",
            "  <p>Our website will also feature a job board for software architect positions, as well as a directory of companies looking to hire talented professionals in this field. We aim to bridge the gap between architects and employers, providing a platform for growth and opportunities.</p>\n",
            "  <p>With a sleek and modern design, intuitive navigation, and regular updates, our website will be the go-to destination for anyone looking to learn, connect, or advance in the world of software architecture. Join us and elevate your skills as a software architect today.</p>\n",
            "</section>\n",
            "\n",
            "\n",
            "<section>\n",
            "  <h2>Articles</h2>\n",
            "  <p>The website for Software Architect is designed to serve as a hub for all things related to software architecture. Our goal is to provide a comprehensive resource for aspiring and experienced software architects alike, through a user-friendly and visually appealing platform.</p>\n",
            "  <p>The website will feature articles, tutorials, and case studies from industry experts, covering topics such as design patterns, software development methodologies, system architecture, and more. Users can also access a collection of tools and resources to aid in their software architecture projects.</p>\n",
            "  <p>In addition, we will offer online courses and certifications for those looking to enhance their skills and advance their careers in the field of software architecture. Our community forum will provide a space for architects to connect, share ideas, and seek advice from their peers.</p>\n",
            "  <p>Our website will also feature a job board for software architect positions, as well as a directory of companies looking to hire talented professionals in this field. We aim to bridge the gap between architects and employers, providing a platform for growth and opportunities.</p>\n",
            "  <p>With a sleek and modern design, intuitive navigation, and regular updates, our website will be the go-to destination for anyone looking to learn, connect, or advance in the world of software architecture. Join us and elevate your skills as a software architect today.</p>\n",
            "</section>\n",
            "\n",
            "\n",
            "<section>\n",
            "  <h2>Tutorials</h2>\n",
            "  <p>Explore our collection of tutorials from industry experts covering a wide range of topics in software architecture.</p>\n",
            "  <p>From design patterns to system architecture, our tutorials will provide valuable insights and knowledge for aspiring and experienced software architects alike.</p>\n",
            "  <p>Stay updated with the latest trends and techniques in the field of software architecture through our regularly updated tutorials.</p>\n",
            "</section>\n",
            "\n",
            "\n",
            "<section id=\"case-studies\">\n",
            "  <h2>Case Studies</h2>\n",
            "  <p>Explore real-world examples of successful software architecture projects.</p>\n",
            "</section>\n",
            "\n",
            "\n",
            "<section id=\"tools-resources\">\n",
            "  <h2>Tools & Resources</h2>\n",
            "  <p>Our website offers a variety of tools and resources to aid in your software architecture projects:</p>\n",
            "  <ul>\n",
            "    <li>Design pattern libraries</li>\n",
            "    <li>Software development methodologies</li>\n",
            "    <li>System architecture templates</li>\n",
            "    <li>Code generators</li>\n",
            "    <li>Debugging tools</li>\n",
            "    <li>Performance testing software</li>\n",
            "    <li>Collaboration platforms</li>\n",
            "  </ul>\n",
            "  <p>Additionally, we provide access to:</p>\n",
            "  <ul>\n",
            "    <li>Online courses and certifications</li>\n",
            "    <li>Community forum for networking and knowledge sharing</li>\n",
            "    <li>Job board for software architect positions</li>\n",
            "    <li>Company directory for job opportunities</li>\n",
            "  </ul>\n",
            "  <p>Join our community and take your software architecture skills to the next level!</p>\n",
            "</section>\n",
            "\n",
            "\n",
            "<section id=\"online-courses\">\n",
            "  <h2>Online Courses</h2>\n",
            "  <p>Enhance your skills and advance your career in software architecture with our online courses and certifications.</p>\n",
            "  <p>Our courses cover a wide range of topics, including design patterns, software development methodologies, system architecture, and more.</p>\n",
            "  <p>Taught by industry experts, our courses provide a comprehensive and practical approach to learning software architecture.</p>\n",
            "  <p>Join our community of aspiring and experienced software architects and take your skills to the next level.</p>\n",
            "</section>\n",
            "\n",
            "\n",
            "<section id=\"certifications\">\n",
            "  <h2>Certifications</h2>\n",
            "  <p>We offer online courses and certifications for aspiring and experienced software architects. Our certifications are designed to enhance your skills and advance your career in the field of software architecture.</p>\n",
            "  <ul>\n",
            "    <li>Software Architecture Fundamentals Certification</li>\n",
            "    <li>Advanced Software Architecture Certification</li>\n",
            "    <li>Enterprise Architecture Certification</li>\n",
            "    <li>Cloud Architecture Certification</li>\n",
            "    <li>Microservices Architecture Certification</li>\n",
            "  </ul>\n",
            "  <p>Our certifications are recognized by top companies in the industry and will give you a competitive edge in the job market. Enroll now and take your software architecture skills to the next level.</p>\n",
            "</section>\n",
            " \n",
            "\n",
            "<section id=\"community-forum\">\n",
            "  <h2>Community Forum</h2>\n",
            "  <p>Join our community of software architects and connect with like-minded professionals. Share your ideas, seek advice, and stay updated on the latest trends and developments in the field.</p>\n",
            "  <p>Our forum is a space for open discussions and collaboration, where members can learn from each other and grow together.</p>\n",
            "  <p>Sign up now and become a part of our thriving community!</p>\n",
            "</section>\n",
            "\n",
            "\n",
            "<section id=\"job-board\">\n",
            "  <h2>Job Board</h2>\n",
            "  <p>Looking for a new opportunity in software architecture? Check out our job board for the latest openings in the field.</p>\n",
            "  <p>Employers, post your job listings here to connect with talented software architects.</p>\n",
            "  <a href=\"#join-us\" class=\"btn\">Join Us</a>\n",
            "</section>\n",
            "\n",
            "\n",
            "<section id=\"company-directory\">\n",
            "  <h2>Company Directory</h2>\n",
            "  <p>Welcome to our comprehensive directory of companies looking to hire talented software architects. Browse through the list below to find your next career opportunity.</p>\n",
            "  <ul>\n",
            "    <li>Company A</li>\n",
            "    <li>Company B</li>\n",
            "    <li>Company C</li>\n",
            "    <li>Company D</li>\n",
            "    <li>Company E</li>\n",
            "  </ul>\n",
            "</section>\n",
            "\n",
            "\n",
            "<section id=\"contact-us\">\n",
            "  <h2>Contact Us</h2>\n",
            "  <p>If you have any questions, comments, or suggestions, please don't hesitate to reach out to us. We value your feedback and are always looking for ways to improve our website.</p>\n",
            "  <ul>\n",
            "    <li>Phone: 555-555-5555</li>\n",
            "    <li>Email: info@softwarearchitect.com</li>\n",
            "    <li>Address: 123 Main Street, Anytown, USA</li>\n",
            "  </ul>\n",
            "</section>\n"
          ]
        }
      ]
    },
    {
      "cell_type": "code",
      "source": [
        "placheolders = \"\"\n",
        "for item in nav_items:\n",
        "  placheolders = placheolders + \",\" + item\n",
        "\n",
        "print(placheolders)"
      ],
      "metadata": {
        "colab": {
          "base_uri": "https://localhost:8080/"
        },
        "id": "AIdO8D9T_hZj",
        "outputId": "e80d9298-7d71-4da3-cd50-520ea8f22ad9"
      },
      "execution_count": 119,
      "outputs": [
        {
          "output_type": "stream",
          "name": "stdout",
          "text": [
            ",Home,About Us,Articles,Tutorials,Case Studies,Tools & Resources,Online Courses,Certifications,Community Forum,Job Board,Company Directory,Contact Us\n"
          ]
        }
      ]
    },
    {
      "cell_type": "code",
      "source": [
        "prompt_template = \"Generate an HTML 5 structure for a webpage with placeholders for {description}.\"\n",
        "\n",
        "prompt6 = PromptTemplate(\n",
        "    input_variables=[\"description\"], template=prompt_template\n",
        ")\n",
        "#a software developer\n",
        "#llm4 = LLMChain(llm=OpenAI(model=\"gpt-4\", temperature=0.9, max_tokens=5000), prompt=prompt2)\n",
        "llm6 = LLMChain(llm=OpenAI(temperature=0.0, max_tokens=3000), prompt=prompt6)\n"
      ],
      "metadata": {
        "id": "epYYUYpv60bb"
      },
      "execution_count": 120,
      "outputs": []
    },
    {
      "cell_type": "code",
      "source": [
        "page_template = llm6.run(description=placheolders )\n"
      ],
      "metadata": {
        "id": "gFAV_MHh_JsU"
      },
      "execution_count": 121,
      "outputs": []
    },
    {
      "cell_type": "code",
      "source": [
        "print(page_template)"
      ],
      "metadata": {
        "colab": {
          "base_uri": "https://localhost:8080/"
        },
        "id": "QkoDQSlVAiF_",
        "outputId": "38adfcfa-0932-4fd4-b653-2f6e57ed1927"
      },
      "execution_count": 122,
      "outputs": [
        {
          "output_type": "stream",
          "name": "stdout",
          "text": [
            "\n",
            "\n",
            "<!DOCTYPE html>\n",
            "<html>\n",
            "<head>\n",
            "\t<title>My Website</title>\n",
            "</head>\n",
            "<body>\n",
            "\t<header>\n",
            "\t\t<nav>\n",
            "\t\t\t<ul>\n",
            "\t\t\t\t<li><a href=\"#home\">Home</a></li>\n",
            "\t\t\t\t<li><a href=\"#about\">About Us</a></li>\n",
            "\t\t\t\t<li><a href=\"#articles\">Articles</a></li>\n",
            "\t\t\t\t<li><a href=\"#tutorials\">Tutorials</a></li>\n",
            "\t\t\t\t<li><a href=\"#case-studies\">Case Studies</a></li>\n",
            "\t\t\t\t<li><a href=\"#tools\">Tools & Resources</a></li>\n",
            "\t\t\t\t<li><a href=\"#online-courses\">Online Courses</a></li>\n",
            "\t\t\t\t<li><a href=\"#certifications\">Certifications</a></li>\n",
            "\t\t\t\t<li><a href=\"#community-forum\">Community Forum</a></li>\n",
            "\t\t\t\t<li><a href=\"#job-board\">Job Board</a></li>\n",
            "\t\t\t\t<li><a href=\"#company-directory\">Company Directory</a></li>\n",
            "\t\t\t\t<li><a href=\"#contact-us\">Contact Us</a></li>\n",
            "\t\t\t</ul>\n",
            "\t\t</nav>\n",
            "\t</header>\n",
            "\t<main>\n",
            "\t\t<section id=\"home\">\n",
            "\t\t\t<h1>Home</h1>\n",
            "\t\t\t<p>Welcome to our website! This is where you can find all the information you need about our company.</p>\n",
            "\t\t</section>\n",
            "\t\t<section id=\"about\">\n",
            "\t\t\t<h2>About Us</h2>\n",
            "\t\t\t<p>Learn more about our company and our mission.</p>\n",
            "\t\t</section>\n",
            "\t\t<section id=\"articles\">\n",
            "\t\t\t<h2>Articles</h2>\n",
            "\t\t\t<p>Read our latest articles on various topics related to our industry.</p>\n",
            "\t\t</section>\n",
            "\t\t<section id=\"tutorials\">\n",
            "\t\t\t<h2>Tutorials</h2>\n",
            "\t\t\t<p>Check out our step-by-step tutorials to learn new skills and techniques.</p>\n",
            "\t\t</section>\n",
            "\t\t<section id=\"case-studies\">\n",
            "\t\t\t<h2>Case Studies</h2>\n",
            "\t\t\t<p>Explore real-life examples of how our products and services have helped our clients.</p>\n",
            "\t\t</section>\n",
            "\t\t<section id=\"tools\">\n",
            "\t\t\t<h2>Tools & Resources</h2>\n",
            "\t\t\t<p>Find useful tools and resources to help you with your projects.</p>\n",
            "\t\t</section>\n",
            "\t\t<section id=\"online-courses\">\n",
            "\t\t\t<h2>Online Courses</h2>\n",
            "\t\t\t<p>Enroll in our online courses to expand your knowledge and skills.</p>\n",
            "\t\t</section>\n",
            "\t\t<section id=\"certifications\">\n",
            "\t\t\t<h2>Certifications</h2>\n",
            "\t\t\t<p>Earn certifications to showcase your expertise in our industry.</p>\n",
            "\t\t</section>\n",
            "\t\t<section id=\"community-forum\">\n",
            "\t\t\t<h2>Community Forum</h2>\n",
            "\t\t\t<p>Join our community forum to connect with other professionals and share knowledge.</p>\n",
            "\t\t</section>\n",
            "\t\t<section id=\"job-board\">\n",
            "\t\t\t<h2>Job Board</h2>\n",
            "\t\t\t<p>Looking for job opportunities? Check out our job board for the latest openings.</p>\n",
            "\t\t</section>\n",
            "\t\t<section id=\"company-directory\">\n",
            "\t\t\t<h2>Company Directory</h2>\n",
            "\t\t\t<p>Find contact information for our company and our team members.</p>\n",
            "\t\t</section>\n",
            "\t\t<section id=\"contact-us\">\n",
            "\t\t\t<h2>Contact Us</h2>\n",
            "\t\t\t<p>Have a question or feedback? Get in touch with us through our contact form.</p>\n",
            "\t\t</section>\n",
            "\t</main>\n",
            "\t<footer>\n",
            "\t\t<p>© 2021 My Website. All rights reserved.</p>\n",
            "\t</footer>\n",
            "</body>\n",
            "</html>\n"
          ]
        }
      ]
    },
    {
      "cell_type": "code",
      "source": [
        "from bs4 import BeautifulSoup\n",
        "\n",
        "# Your HTML content\n",
        "html_content = page_template\n",
        "\n",
        "# Parse the HTML\n",
        "soup = BeautifulSoup(html_content, 'html.parser')\n",
        "\n",
        "# Example: Replace content in the 'about' section\n",
        "for item in section_op_items:\n",
        "  #print(item)\n",
        "  soup2 = BeautifulSoup(item, 'html.parser')\n",
        "  section_id = soup2.find('section').get('id')\n",
        "  #print(section_id)\n",
        "\n",
        "  about_section = soup.find('section', id=section_id)\n",
        "  if about_section is not None:\n",
        "    about_section.clear()  # Clear existing content\n",
        "    about_section.append(BeautifulSoup(item))\n",
        "\n",
        "# Convert back to string\n",
        "modified_html_content = str(soup)\n"
      ],
      "metadata": {
        "id": "HOkdpnMJa5NA"
      },
      "execution_count": 123,
      "outputs": []
    },
    {
      "cell_type": "code",
      "source": [
        "print(modified_html_content)"
      ],
      "metadata": {
        "colab": {
          "base_uri": "https://localhost:8080/"
        },
        "id": "CtCc_8FbasFw",
        "outputId": "f5122c3a-be34-4dea-f6f5-04cbca007ffb"
      },
      "execution_count": 124,
      "outputs": [
        {
          "output_type": "stream",
          "name": "stdout",
          "text": [
            "\n",
            "<!DOCTYPE html>\n",
            "\n",
            "<html>\n",
            "<head>\n",
            "<title>My Website</title>\n",
            "</head>\n",
            "<body>\n",
            "<header>\n",
            "<nav>\n",
            "<ul>\n",
            "<li><a href=\"#home\">Home</a></li>\n",
            "<li><a href=\"#about\">About Us</a></li>\n",
            "<li><a href=\"#articles\">Articles</a></li>\n",
            "<li><a href=\"#tutorials\">Tutorials</a></li>\n",
            "<li><a href=\"#case-studies\">Case Studies</a></li>\n",
            "<li><a href=\"#tools\">Tools &amp; Resources</a></li>\n",
            "<li><a href=\"#online-courses\">Online Courses</a></li>\n",
            "<li><a href=\"#certifications\">Certifications</a></li>\n",
            "<li><a href=\"#community-forum\">Community Forum</a></li>\n",
            "<li><a href=\"#job-board\">Job Board</a></li>\n",
            "<li><a href=\"#company-directory\">Company Directory</a></li>\n",
            "<li><a href=\"#contact-us\">Contact Us</a></li>\n",
            "</ul>\n",
            "</nav>\n",
            "</header>\n",
            "<main>\n",
            "<section id=\"home\"><html><body><section id=\"home\">\n",
            "<h2>Welcome to Software Architect</h2>\n",
            "<p>The ultimate hub for all things related to software architecture.</p>\n",
            "<p>Our goal is to provide a comprehensive resource for aspiring and experienced software architects alike, through a user-friendly and visually appealing platform.</p>\n",
            "</section></body></html></section>\n",
            "<section id=\"about\">\n",
            "<h2>About Us</h2>\n",
            "<p>Learn more about our company and our mission.</p>\n",
            "</section>\n",
            "<section id=\"articles\">\n",
            "<h2>Articles</h2>\n",
            "<p>Read our latest articles on various topics related to our industry.</p>\n",
            "</section>\n",
            "<section id=\"tutorials\">\n",
            "<h2>Tutorials</h2>\n",
            "<p>Check out our step-by-step tutorials to learn new skills and techniques.</p>\n",
            "</section>\n",
            "<section id=\"case-studies\"><html><body><section id=\"case-studies\">\n",
            "<h2>Case Studies</h2>\n",
            "<p>Explore real-world examples of successful software architecture projects.</p>\n",
            "</section></body></html></section>\n",
            "<section id=\"tools\">\n",
            "<h2>Tools &amp; Resources</h2>\n",
            "<p>Find useful tools and resources to help you with your projects.</p>\n",
            "</section>\n",
            "<section id=\"online-courses\"><html><body><section id=\"online-courses\">\n",
            "<h2>Online Courses</h2>\n",
            "<p>Enhance your skills and advance your career in software architecture with our online courses and certifications.</p>\n",
            "<p>Our courses cover a wide range of topics, including design patterns, software development methodologies, system architecture, and more.</p>\n",
            "<p>Taught by industry experts, our courses provide a comprehensive and practical approach to learning software architecture.</p>\n",
            "<p>Join our community of aspiring and experienced software architects and take your skills to the next level.</p>\n",
            "</section></body></html></section>\n",
            "<section id=\"certifications\"><html><body><section id=\"certifications\">\n",
            "<h2>Certifications</h2>\n",
            "<p>We offer online courses and certifications for aspiring and experienced software architects. Our certifications are designed to enhance your skills and advance your career in the field of software architecture.</p>\n",
            "<ul>\n",
            "<li>Software Architecture Fundamentals Certification</li>\n",
            "<li>Advanced Software Architecture Certification</li>\n",
            "<li>Enterprise Architecture Certification</li>\n",
            "<li>Cloud Architecture Certification</li>\n",
            "<li>Microservices Architecture Certification</li>\n",
            "</ul>\n",
            "<p>Our certifications are recognized by top companies in the industry and will give you a competitive edge in the job market. Enroll now and take your software architecture skills to the next level.</p>\n",
            "</section></body></html></section>\n",
            "<section id=\"community-forum\"><html><body><section id=\"community-forum\">\n",
            "<h2>Community Forum</h2>\n",
            "<p>Join our community of software architects and connect with like-minded professionals. Share your ideas, seek advice, and stay updated on the latest trends and developments in the field.</p>\n",
            "<p>Our forum is a space for open discussions and collaboration, where members can learn from each other and grow together.</p>\n",
            "<p>Sign up now and become a part of our thriving community!</p>\n",
            "</section></body></html></section>\n",
            "<section id=\"job-board\"><html><body><section id=\"job-board\">\n",
            "<h2>Job Board</h2>\n",
            "<p>Looking for a new opportunity in software architecture? Check out our job board for the latest openings in the field.</p>\n",
            "<p>Employers, post your job listings here to connect with talented software architects.</p>\n",
            "<a class=\"btn\" href=\"#join-us\">Join Us</a>\n",
            "</section></body></html></section>\n",
            "<section id=\"company-directory\"><html><body><section id=\"company-directory\">\n",
            "<h2>Company Directory</h2>\n",
            "<p>Welcome to our comprehensive directory of companies looking to hire talented software architects. Browse through the list below to find your next career opportunity.</p>\n",
            "<ul>\n",
            "<li>Company A</li>\n",
            "<li>Company B</li>\n",
            "<li>Company C</li>\n",
            "<li>Company D</li>\n",
            "<li>Company E</li>\n",
            "</ul>\n",
            "</section></body></html></section>\n",
            "<section id=\"contact-us\"><html><body><section id=\"contact-us\">\n",
            "<h2>Contact Us</h2>\n",
            "<p>If you have any questions, comments, or suggestions, please don't hesitate to reach out to us. We value your feedback and are always looking for ways to improve our website.</p>\n",
            "<ul>\n",
            "<li>Phone: 555-555-5555</li>\n",
            "<li>Email: info@softwarearchitect.com</li>\n",
            "<li>Address: 123 Main Street, Anytown, USA</li>\n",
            "</ul>\n",
            "</section></body></html></section>\n",
            "</main>\n",
            "<footer>\n",
            "<p>© 2021 My Website. All rights reserved.</p>\n",
            "</footer>\n",
            "</body>\n",
            "</html>\n"
          ]
        }
      ]
    },
    {
      "cell_type": "code",
      "source": [
        "from IPython.display import HTML\n"
      ],
      "metadata": {
        "id": "-D-2MVHNbH_S"
      },
      "execution_count": 2,
      "outputs": []
    },
    {
      "cell_type": "code",
      "source": [
        "# Example HTML string\n",
        "html_content = \"\"\"\n",
        "<<!DOCTYPE html>\n",
        "<html>\n",
        "<head>\n",
        "<title>My Website</title>\n",
        "</head>\n",
        "<body>\n",
        "<header>\n",
        "<nav>\n",
        "<ul>\n",
        "<li><a href=\"#home\">Home</a></li>\n",
        "<li><a href=\"#about\">About Us</a></li>\n",
        "<li><a href=\"#articles\">Articles</a></li>\n",
        "<li><a href=\"#tutorials\">Tutorials</a></li>\n",
        "<li><a href=\"#case-studies\">Case Studies</a></li>\n",
        "<li><a href=\"#tools\">Tools &amp; Resources</a></li>\n",
        "<li><a href=\"#online-courses\">Online Courses</a></li>\n",
        "<li><a href=\"#certifications\">Certifications</a></li>\n",
        "<li><a href=\"#community-forum\">Community Forum</a></li>\n",
        "<li><a href=\"#job-board\">Job Board</a></li>\n",
        "<li><a href=\"#company-directory\">Company Directory</a></li>\n",
        "<li><a href=\"#contact-us\">Contact Us</a></li>\n",
        "</ul>\n",
        "</nav>\n",
        "</header>\n",
        "<main>\n",
        "<section id=\"home\"><html><body><section id=\"home\">\n",
        "<h2>Welcome to Software Architect</h2>\n",
        "<p>The ultimate hub for all things related to software architecture.</p>\n",
        "<p>Our goal is to provide a comprehensive resource for aspiring and experienced software architects alike, through a user-friendly and visually appealing platform.</p>\n",
        "</section></body></html></section>\n",
        "<section id=\"about\">\n",
        "<h2>About Us</h2>\n",
        "<p>Learn more about our company and our mission.</p>\n",
        "</section>\n",
        "<section id=\"articles\">\n",
        "<h2>Articles</h2>\n",
        "<p>Read our latest articles on various topics related to our industry.</p>\n",
        "</section>\n",
        "<section id=\"tutorials\">\n",
        "<h2>Tutorials</h2>\n",
        "<p>Check out our step-by-step tutorials to learn new skills and techniques.</p>\n",
        "</section>\n",
        "<section id=\"case-studies\"><html><body><section id=\"case-studies\">\n",
        "<h2>Case Studies</h2>\n",
        "<p>Explore real-world examples of successful software architecture projects.</p>\n",
        "</section></body></html></section>\n",
        "<section id=\"tools\">\n",
        "<h2>Tools &amp; Resources</h2>\n",
        "<p>Find useful tools and resources to help you with your projects.</p>\n",
        "</section>\n",
        "<section id=\"online-courses\"><html><body><section id=\"online-courses\">\n",
        "<h2>Online Courses</h2>\n",
        "<p>Enhance your skills and advance your career in software architecture with our online courses and certifications.</p>\n",
        "<p>Our courses cover a wide range of topics, including design patterns, software development methodologies, system architecture, and more.</p>\n",
        "<p>Taught by industry experts, our courses provide a comprehensive and practical approach to learning software architecture.</p>\n",
        "<p>Join our community of aspiring and experienced software architects and take your skills to the next level.</p>\n",
        "</section></body></html></section>\n",
        "<section id=\"certifications\"><html><body><section id=\"certifications\">\n",
        "<h2>Certifications</h2>\n",
        "<p>We offer online courses and certifications for aspiring and experienced software architects. Our certifications are designed to enhance your skills and advance your career in the field of software architecture.</p>\n",
        "<ul>\n",
        "<li>Software Architecture Fundamentals Certification</li>\n",
        "<li>Advanced Software Architecture Certification</li>\n",
        "<li>Enterprise Architecture Certification</li>\n",
        "<li>Cloud Architecture Certification</li>\n",
        "<li>Microservices Architecture Certification</li>\n",
        "</ul>\n",
        "<p>Our certifications are recognized by top companies in the industry and will give you a competitive edge in the job market. Enroll now and take your software architecture skills to the next level.</p>\n",
        "</section></body></html></section>\n",
        "<section id=\"community-forum\"><html><body><section id=\"community-forum\">\n",
        "<h2>Community Forum</h2>\n",
        "<p>Join our community of software architects and connect with like-minded professionals. Share your ideas, seek advice, and stay updated on the latest trends and developments in the field.</p>\n",
        "<p>Our forum is a space for open discussions and collaboration, where members can learn from each other and grow together.</p>\n",
        "<p>Sign up now and become a part of our thriving community!</p>\n",
        "</section></body></html></section>\n",
        "<section id=\"job-board\"><html><body><section id=\"job-board\">\n",
        "<h2>Job Board</h2>\n",
        "<p>Looking for a new opportunity in software architecture? Check out our job board for the latest openings in the field.</p>\n",
        "<p>Employers, post your job listings here to connect with talented software architects.</p>\n",
        "<a class=\"btn\" href=\"#join-us\">Join Us</a>\n",
        "</section></body></html></section>\n",
        "<section id=\"company-directory\"><html><body><section id=\"company-directory\">\n",
        "<h2>Company Directory</h2>\n",
        "<p>Welcome to our comprehensive directory of companies looking to hire talented software architects. Browse through the list below to find your next career opportunity.</p>\n",
        "<ul>\n",
        "<li>Company A</li>\n",
        "<li>Company B</li>\n",
        "<li>Company C</li>\n",
        "<li>Company D</li>\n",
        "<li>Company E</li>\n",
        "</ul>\n",
        "</section></body></html></section>\n",
        "<section id=\"contact-us\"><html><body><section id=\"contact-us\">\n",
        "<h2>Contact Us</h2>\n",
        "<p>If you have any questions, comments, or suggestions, please don't hesitate to reach out to us. We value your feedback and are always looking for ways to improve our website.</p>\n",
        "<ul>\n",
        "<li>Phone: 555-555-5555</li>\n",
        "<li>Email: info@softwarearchitect.com</li>\n",
        "<li>Address: 123 Main Street, Anytown, USA</li>\n",
        "</ul>\n",
        "</section></body></html></section>\n",
        "</main>\n",
        "<footer>\n",
        "<p>© 2021 My Website. All rights reserved.</p>\n",
        "</footer>\n",
        "</body>\n",
        "</html>\n",
        "\"\"\"\n",
        "\n",
        "# Display the HTML\n",
        "HTML(html_content)\n"
      ],
      "metadata": {
        "colab": {
          "base_uri": "https://localhost:8080/",
          "height": 1000
        },
        "id": "VdU2iCUDa_gT",
        "outputId": "3193c6df-bba6-4ae3-fa04-b4c37c063830"
      },
      "execution_count": 4,
      "outputs": [
        {
          "output_type": "execute_result",
          "data": {
            "text/plain": [
              "<IPython.core.display.HTML object>"
            ],
            "text/html": [
              "\n",
              "<<!DOCTYPE html>\n",
              "\n",
              "<html>\n",
              "<head>\n",
              "<title>My Website</title>\n",
              "</head>\n",
              "<body>\n",
              "<header>\n",
              "<nav>\n",
              "<ul>\n",
              "<li><a href=\"#home\">Home</a></li>\n",
              "<li><a href=\"#about\">About Us</a></li>\n",
              "<li><a href=\"#articles\">Articles</a></li>\n",
              "<li><a href=\"#tutorials\">Tutorials</a></li>\n",
              "<li><a href=\"#case-studies\">Case Studies</a></li>\n",
              "<li><a href=\"#tools\">Tools &amp; Resources</a></li>\n",
              "<li><a href=\"#online-courses\">Online Courses</a></li>\n",
              "<li><a href=\"#certifications\">Certifications</a></li>\n",
              "<li><a href=\"#community-forum\">Community Forum</a></li>\n",
              "<li><a href=\"#job-board\">Job Board</a></li>\n",
              "<li><a href=\"#company-directory\">Company Directory</a></li>\n",
              "<li><a href=\"#contact-us\">Contact Us</a></li>\n",
              "</ul>\n",
              "</nav>\n",
              "</header>\n",
              "<main>\n",
              "<section id=\"home\"><html><body><section id=\"home\">\n",
              "<h2>Welcome to Software Architect</h2>\n",
              "<p>The ultimate hub for all things related to software architecture.</p>\n",
              "<p>Our goal is to provide a comprehensive resource for aspiring and experienced software architects alike, through a user-friendly and visually appealing platform.</p>\n",
              "</section></body></html></section>\n",
              "<section id=\"about\">\n",
              "<h2>About Us</h2>\n",
              "<p>Learn more about our company and our mission.</p>\n",
              "</section>\n",
              "<section id=\"articles\">\n",
              "<h2>Articles</h2>\n",
              "<p>Read our latest articles on various topics related to our industry.</p>\n",
              "</section>\n",
              "<section id=\"tutorials\">\n",
              "<h2>Tutorials</h2>\n",
              "<p>Check out our step-by-step tutorials to learn new skills and techniques.</p>\n",
              "</section>\n",
              "<section id=\"case-studies\"><html><body><section id=\"case-studies\">\n",
              "<h2>Case Studies</h2>\n",
              "<p>Explore real-world examples of successful software architecture projects.</p>\n",
              "</section></body></html></section>\n",
              "<section id=\"tools\">\n",
              "<h2>Tools &amp; Resources</h2>\n",
              "<p>Find useful tools and resources to help you with your projects.</p>\n",
              "</section>\n",
              "<section id=\"online-courses\"><html><body><section id=\"online-courses\">\n",
              "<h2>Online Courses</h2>\n",
              "<p>Enhance your skills and advance your career in software architecture with our online courses and certifications.</p>\n",
              "<p>Our courses cover a wide range of topics, including design patterns, software development methodologies, system architecture, and more.</p>\n",
              "<p>Taught by industry experts, our courses provide a comprehensive and practical approach to learning software architecture.</p>\n",
              "<p>Join our community of aspiring and experienced software architects and take your skills to the next level.</p>\n",
              "</section></body></html></section>\n",
              "<section id=\"certifications\"><html><body><section id=\"certifications\">\n",
              "<h2>Certifications</h2>\n",
              "<p>We offer online courses and certifications for aspiring and experienced software architects. Our certifications are designed to enhance your skills and advance your career in the field of software architecture.</p>\n",
              "<ul>\n",
              "<li>Software Architecture Fundamentals Certification</li>\n",
              "<li>Advanced Software Architecture Certification</li>\n",
              "<li>Enterprise Architecture Certification</li>\n",
              "<li>Cloud Architecture Certification</li>\n",
              "<li>Microservices Architecture Certification</li>\n",
              "</ul>\n",
              "<p>Our certifications are recognized by top companies in the industry and will give you a competitive edge in the job market. Enroll now and take your software architecture skills to the next level.</p>\n",
              "</section></body></html></section>\n",
              "<section id=\"community-forum\"><html><body><section id=\"community-forum\">\n",
              "<h2>Community Forum</h2>\n",
              "<p>Join our community of software architects and connect with like-minded professionals. Share your ideas, seek advice, and stay updated on the latest trends and developments in the field.</p>\n",
              "<p>Our forum is a space for open discussions and collaboration, where members can learn from each other and grow together.</p>\n",
              "<p>Sign up now and become a part of our thriving community!</p>\n",
              "</section></body></html></section>\n",
              "<section id=\"job-board\"><html><body><section id=\"job-board\">\n",
              "<h2>Job Board</h2>\n",
              "<p>Looking for a new opportunity in software architecture? Check out our job board for the latest openings in the field.</p>\n",
              "<p>Employers, post your job listings here to connect with talented software architects.</p>\n",
              "<a class=\"btn\" href=\"#join-us\">Join Us</a>\n",
              "</section></body></html></section>\n",
              "<section id=\"company-directory\"><html><body><section id=\"company-directory\">\n",
              "<h2>Company Directory</h2>\n",
              "<p>Welcome to our comprehensive directory of companies looking to hire talented software architects. Browse through the list below to find your next career opportunity.</p>\n",
              "<ul>\n",
              "<li>Company A</li>\n",
              "<li>Company B</li>\n",
              "<li>Company C</li>\n",
              "<li>Company D</li>\n",
              "<li>Company E</li>\n",
              "</ul>\n",
              "</section></body></html></section>\n",
              "<section id=\"contact-us\"><html><body><section id=\"contact-us\">\n",
              "<h2>Contact Us</h2>\n",
              "<p>If you have any questions, comments, or suggestions, please don't hesitate to reach out to us. We value your feedback and are always looking for ways to improve our website.</p>\n",
              "<ul>\n",
              "<li>Phone: 555-555-5555</li>\n",
              "<li>Email: info@softwarearchitect.com</li>\n",
              "<li>Address: 123 Main Street, Anytown, USA</li>\n",
              "</ul>\n",
              "</section></body></html></section>\n",
              "</main>\n",
              "<footer>\n",
              "<p>© 2021 My Website. All rights reserved.</p>\n",
              "</footer>\n",
              "</body>\n",
              "</html>\n"
            ]
          },
          "metadata": {},
          "execution_count": 4
        }
      ]
    }
  ]
}